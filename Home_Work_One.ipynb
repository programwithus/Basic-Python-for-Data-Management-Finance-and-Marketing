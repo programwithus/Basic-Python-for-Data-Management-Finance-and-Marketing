{
  "nbformat": 4,
  "nbformat_minor": 0,
  "metadata": {
    "kernelspec": {
      "name": "python3",
      "display_name": "Python 3",
      "language": "python"
    },
    "language_info": {
      "mimetype": "text/x-python",
      "nbconvert_exporter": "python",
      "name": "python",
      "file_extension": ".py",
      "version": "3.5.4",
      "pygments_lexer": "ipython3",
      "codemirror_mode": {
        "version": 3,
        "name": "ipython"
      }
    },
    "colab": {
      "name": "Home_Work_One.ipynb",
      "provenance": [],
      "include_colab_link": true
    }
  },
  "cells": [
    {
      "cell_type": "markdown",
      "metadata": {
        "id": "view-in-github",
        "colab_type": "text"
      },
      "source": [
        "<a href=\"https://colab.research.google.com/github/programwithus/Basic-Python-for-Data-Management-Finance-and-Marketing/blob/main/Home_Work_One.ipynb\" target=\"_parent\"><img src=\"https://colab.research.google.com/assets/colab-badge.svg\" alt=\"Open In Colab\"/></a>"
      ]
    },
    {
      "cell_type": "markdown",
      "metadata": {
        "id": "TWNNkyWz5IU6"
      },
      "source": [
        "# Home Work One"
      ]
    },
    {
      "cell_type": "markdown",
      "metadata": {
        "id": "cT6cSMS15IU9"
      },
      "source": [
        "Built-in Functions"
      ]
    },
    {
      "cell_type": "markdown",
      "metadata": {
        "id": "Ljb9QXuZ5IU-"
      },
      "source": [
        "https://docs.python.org/3/library/functions.html"
      ]
    },
    {
      "cell_type": "markdown",
      "metadata": {
        "id": "0qRHviD85IU-"
      },
      "source": [
        "https://www.w3schools.com/python/python_ref_functions.asp"
      ]
    },
    {
      "cell_type": "markdown",
      "metadata": {
        "id": "PrwyOrS05IU_"
      },
      "source": [
        "https://www.programiz.com/python-programming/methods/built-in"
      ]
    },
    {
      "cell_type": "markdown",
      "metadata": {
        "id": "Wy-7q6J05IU_"
      },
      "source": [
        "Exercises "
      ]
    },
    {
      "cell_type": "markdown",
      "metadata": {
        "id": "bVHIqTk15IU_"
      },
      "source": [
        "Exercise 1."
      ]
    },
    {
      "cell_type": "markdown",
      "metadata": {
        "id": "JsrKpKcK5IVA"
      },
      "source": [
        "Pretend that you have just opened a new savings account that earns 4 percent interest\n",
        "per year. The interest that you earn is paid at the end of the year, and is added\n",
        "to the balance of the savings account. Write a program that begins by reading the\n",
        "amount of money deposited into the account from the user. Then your program should\n",
        "compute and display the amount in the savings account after 1, 2, and 3 years. Display\n",
        "each amount so that it is rounded to 2 decimal places."
      ]
    },
    {
      "cell_type": "markdown",
      "metadata": {
        "id": "7tpYnQ9i5IVA"
      },
      "source": [
        "```\n",
        "Compound Interest = P(1 + R/100)r\n",
        "```"
      ]
    },
    {
      "cell_type": "markdown",
      "metadata": {
        "id": "tkMf-5Sd5IVB"
      },
      "source": [
        "Exercise 2."
      ]
    },
    {
      "cell_type": "markdown",
      "metadata": {
        "id": "VElodYLe5IVB"
      },
      "source": [
        "```\n",
        "Create a Temperature converter, Celsius to Fahrenheit:\n",
        "0 degrees Celsius is equal to 32 degrees Fahrenheit:\n",
        "0 °C = 32 °F\n",
        "The temperature T in degrees Fahrenheit (°F) is equal to the temperature T in degrees Celsius (°C) times 9/5 plus 32:\n",
        "T(°F) = T(°C) × 9/5 + 32\n",
        "\n",
        "Example:\n",
        "Convert 20 degrees Celsius to degrees Fahrenheit:\n",
        "T(°F) = 20°C × 9/5 + 32 = 68 °F\n",
        "\n",
        "Add:\n",
        "if Fahrenheit is more than 90, print statement \"a heat warning\", if Fahrenheit is less than 30, print statement \"a cold warning\"\n",
        "```"
      ]
    },
    {
      "cell_type": "markdown",
      "metadata": {
        "id": "yeWY-h3i5IVC"
      },
      "source": [
        "Exercise 3."
      ]
    },
    {
      "cell_type": "markdown",
      "metadata": {
        "id": "cLAQ7HKR5IVC"
      },
      "source": [
        "Our address is \"115 W 30th St., 5th Floor, Suite 501, New York, NY, 12345\""
      ]
    },
    {
      "cell_type": "markdown",
      "metadata": {
        "id": "XDWVoGru5IVC"
      },
      "source": [
        "```\n",
        "slice out of the string:\n",
        "\n",
        "zip code\n",
        "city\n",
        "Suite number\n",
        "reverse the whole string\n",
        "```"
      ]
    },
    {
      "cell_type": "markdown",
      "metadata": {
        "id": "UOPtK4gz5IVD"
      },
      "source": [
        "Exercise 4."
      ]
    },
    {
      "cell_type": "markdown",
      "metadata": {
        "id": "4X-lGit45IVD"
      },
      "source": [
        "Write a program that reads an integer from the user. Then your program should display a message indicating whether the integer is positive or negative."
      ]
    },
    {
      "cell_type": "code",
      "metadata": {
        "trusted": false,
        "id": "AUs2kadv5IVD"
      },
      "source": [
        ""
      ],
      "execution_count": null,
      "outputs": []
    }
  ]
}